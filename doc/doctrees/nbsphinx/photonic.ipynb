{
 "cells": [
  {
   "cell_type": "markdown",
   "id": "5c38153e",
   "metadata": {},
   "source": [
    "# Quantum photonics introduction"
   ]
  },
  {
   "cell_type": "code",
   "execution_count": 1,
   "id": "e20f1af2",
   "metadata": {},
   "outputs": [],
   "source": [
    "import qoptkit                                   # QOPTKIT module\n",
    "import numpy as np                               # Numpy\n",
    "from math  import acos,sqrt,pi                   # Mathematical module\n",
    "from qiskit import Aer,QuantumCircuit            # QISKIT Tools \n",
    "from qiskit.visualization import plot_histogram  # QISKIT Visualization tools"
   ]
  },
  {
   "cell_type": "markdown",
   "id": "400ec6a7",
   "metadata": {},
   "source": [
    "## 1 Basic concepts"
   ]
  },
  {
   "cell_type": "markdown",
   "id": "567c03d3",
   "metadata": {},
   "source": [
    "### 1.1 Circuit and state"
   ]
  },
  {
   "cell_type": "markdown",
   "id": "d5f6d837",
   "metadata": {},
   "source": [
    "<p style='text-align: justify'> An optical quantum computer consists in an ensemble of indistinguishable photons traveling through a set of optical gates. The kind of optical gates used and their interconnections define the circuit. The ensemble of photons define the state of the quantum operation. In a superconductor qubit based machine the active part of the computation is performed by the qubits. However, in an optical quantum computer the active part of the computation is performed by photons traveling trough the circuit. Therefore a quantum optical computer will consist in a set of emitters, an optical circuit and a set of detectors. Those define the input state, the transformation rules of the circuit and the output state respectively.  </p>\n",
    "    \n",
    "<p style='text-align: justifty'> Photons may arrive to the optical circuit by different channels or modes. For example, we can see next a simple circuit made of a single balanced beamsplitter with two channels labeled as <i>\"0\"</i> and <i>\"1\"</i>. </p>"
   ]
  },
  {
   "cell_type": "code",
   "execution_count": 2,
   "id": "d344f067",
   "metadata": {},
   "outputs": [
    {
     "data": {
      "image/png": "[encoded data removed]",
      "text/plain": [
       "<Figure size 1900x320 with 1 Axes>"
      ]
     },
     "metadata": {
      "needs_background": "light"
     },
     "output_type": "display_data"
    }
   ],
   "source": [
    "# Create circuit\n",
    "hom = qoptkit.qocircuit(2);\n",
    "# Build circuit\n",
    "hom.bs(0,1,45.0,0.0)\n",
    "# Plot circuit\n",
    "hom.show()"
   ]
  },
  {
   "cell_type": "markdown",
   "id": "ff086211",
   "metadata": {},
   "source": [
    "A beamsplitter can be represented by the transformation between input and output bosonic operators:\n",
    "\n",
    "$$ \\begin{equation}\n",
    "\t\\begin{matrix}\n",
    "\t\t\\hat{a}_0^\\dagger \\rightarrow & \\cos(\\theta)\\hat{a}_0^\\dagger + e^{-i \\phi}\\sin(\\theta) \\hat{a}_1^\\dagger  \\\\\n",
    "\t\t\\hat{a}_1^\\dagger \\rightarrow & -e^{i \\phi} \\sin(\\theta)\\hat{a}_0^\\dagger + \\cos(\\theta) \\hat{a}_1^\\dagger.  \n",
    "\t\\end{matrix}\n",
    "\\end{equation} \n",
    "$$"
   ]
  },
  {
   "cell_type": "markdown",
   "id": "7420b823",
   "metadata": {},
   "source": [
    "<p style='text-align: justify'> For the time being, we can think in the channels in an optical circuit as a sort of an equivalent to qubits in a superconductor qubit computer. We will refine this idea later on. For the moment, note that photons are bosonic states therefore states of an optical quantum machine may have more than one photon by channel. For example we can define a two channel state as, </p>"
   ]
  },
  {
   "cell_type": "code",
   "execution_count": 3,
   "id": "d93f8a64",
   "metadata": {},
   "outputs": [
    {
     "name": "stdout",
     "output_type": "stream",
     "text": [
      "\u001b[36m | 2, 0 >\u001b[0m:  1.00000000 + 0.00000000 j\n",
      "\n"
     ]
    }
   ],
   "source": [
    "# Define a |2,0> state\n",
    "inputst = qoptkit.state(2,st=[[1.0,[2,0]]])\n",
    "# Print the state\n",
    "inputst.prnt_state()"
   ]
  },
  {
   "cell_type": "markdown",
   "id": "a3d60fd1",
   "metadata": {},
   "source": [
    "### 1.2 Simulation"
   ]
  },
  {
   "cell_type": "markdown",
   "id": "4b4ce7bc",
   "metadata": {},
   "source": [
    "<p style='text-align: justify'> By convention we consider that photons travel trough a circuit from the left to the right direction. We can use the previously defined state as an input state of the given beamsplitter circuit and calculate the corresponding output state. </p>"
   ]
  },
  {
   "cell_type": "code",
   "execution_count": 4,
   "id": "48852a10",
   "metadata": {},
   "outputs": [
    {
     "name": "stdout",
     "output_type": "stream",
     "text": [
      "\u001b[36m | 2, 0 >\u001b[0m:  0.50000000 + 0.00000000 j\n",
      "\u001b[36m | 1, 1 >\u001b[0m:  0.70710678 + 0.00000000 j\n",
      "\u001b[36m | 0, 2 >\u001b[0m:  0.50000000 + 0.00000000 j\n",
      "\n"
     ]
    }
   ],
   "source": [
    "# Create a simulator\n",
    "sim=qoptkit.simulator()\n",
    "# Calculate the output\n",
    "outputst=sim.run(inputst,hom)\n",
    "# Print output state\n",
    "outputst.prnt_state()"
   ]
  },
  {
   "cell_type": "markdown",
   "id": "985934a9",
   "metadata": {},
   "source": [
    "<p style='text-align: justify'> In this particular case we can see how each photon has a 1/2 of probability to be detected in each of the channels because the beamsplitter is balanced. Therefore, this circuit implements the transformation, </p>\n",
    "\n",
    "$$ \n",
    "\\begin{equation}\n",
    "\\begin{split}\n",
    "|2, 0 \\rangle &=\\frac{\\bigl(\\hat{a}_{0}^{\\dagger}\\bigr)^{2}} {\\sqrt{2!}}\\frac{\\bigl(\\hat{a}_{1}^{\\dagger}\\bigr)^{0}}{\\sqrt{0!}}|0, 0 \\rangle \n",
    "\\rightarrow \\frac{1}{\\sqrt{2}} \\Bigl( \\hat{a}_{0}^{\\dagger}\\frac{1}{\\sqrt{2}}+\\hat{a}_{1}^{\\dagger}\\frac{1}{\\sqrt{2}}\\Bigr)^{2} |0, 0 \\rangle\n",
    "= \\frac{1}{2} |2, 0 \\rangle + \\sqrt2  |1, 1 \\rangle + \\frac{1}{2} |0, 2 \\rangle\n",
    "\\end{split}\n",
    "\\end{equation}\n",
    "$$"
   ]
  },
  {
   "cell_type": "markdown",
   "id": "a464aa36",
   "metadata": {},
   "source": [
    "### 1.3 HOM Effect"
   ]
  },
  {
   "cell_type": "markdown",
   "id": "ed0bf84e",
   "metadata": {},
   "source": [
    "<p style='text-align: justify'>  Of course, optical circuits may give rise to some interesting quantum effects. For example, the correlation at the output of indistinguishable photons that enter the beamsplitter by different channels. This effect is the well known  Hong-Ou-Mandel effect [1]. </p>"
   ]
  },
  {
   "cell_type": "code",
   "execution_count": 5,
   "id": "c827b1d2",
   "metadata": {},
   "outputs": [
    {
     "name": "stdout",
     "output_type": "stream",
     "text": [
      "Input state:\n",
      "\u001b[36m | 1, 1 >\u001b[0m:  1.00000000 + 0.00000000 j\n",
      "\n",
      "Output state:\n",
      "\u001b[36m | 2, 0 >\u001b[0m: -0.70710678 + 0.00000000 j\n",
      "\u001b[36m | 0, 2 >\u001b[0m:  0.70710678 + 0.00000000 j\n",
      "\n"
     ]
    }
   ],
   "source": [
    "inputst = qoptkit.state(2,st=[[1.0,[1,1]]])\n",
    "outputst=sim.run(inputst,hom)\n",
    "print(\"Input state:\")\n",
    "inputst.prnt_state()\n",
    "print(\"Output state:\")\n",
    "outputst.prnt_state()"
   ]
  },
  {
   "cell_type": "markdown",
   "id": "84bb117d",
   "metadata": {},
   "source": [
    "Note how in this case the outcome $|1,1\\rangle$ does not appear."
   ]
  },
  {
   "cell_type": "markdown",
   "id": "ce493012",
   "metadata": {},
   "source": [
    "## 2 Basic gates"
   ]
  },
  {
   "cell_type": "markdown",
   "id": "a04019a6",
   "metadata": {},
   "source": [
    "### 2.1 Qubit encoding"
   ]
  },
  {
   "cell_type": "markdown",
   "id": "0c0e41eb",
   "metadata": {},
   "source": [
    "<p style='text-align: justify'>  But how a qubit is defined in a quantum optical circuit? An how I can define some of the logical gates that I know? Like, for example, rotations. There are various ways to encode a photonic state into a logical qubit state. In this tutorial we will use path encoding. But what is path encoding? </p>\n",
    "\n",
    "<p style='text-align: justify'>  We will use a pair of channels to define a qubit. For example, channels <i>\"0\"</i> and <i>\"1\"</i> may define qubit <i>\"0\"</i>. There will be only one photon by each pair of channels defining a qubit. The position of the photon will define the qubit value. If the photon is on the first channel this represents a logical <i>\"1\"</i>. However, if the photon is in the second channel this means a logical <i>\"0\"</i>.</p>\n",
    "\n",
    "Photonic state $\\rightarrow$ qubit:\n",
    "\n",
    "$|0,1\\rangle\\rightarrow |0 \\rangle$\n",
    "\n",
    "$|1,0\\rangle\\rightarrow |1 \\rangle$"
   ]
  },
  {
   "cell_type": "markdown",
   "id": "af1f367e",
   "metadata": {},
   "source": [
    "<p style='text-align: justify'> We can define a map specifying the channels for each qubit. Each pair of channels define a qubit and differentt qubits are defined in order from 0 to n.</p>"
   ]
  },
  {
   "cell_type": "code",
   "execution_count": 6,
   "id": "4219dd12",
   "metadata": {},
   "outputs": [],
   "source": [
    "qmap=[[0, 1], [2, 3]]"
   ]
  },
  {
   "cell_type": "markdown",
   "id": "9cef4189",
   "metadata": {},
   "source": [
    "<p style='text-align: justify'> In this particular case, the map specifies that channels <i>\"0\"</i> and <i>\"1\"</i> define qubit <i>\"0\"</i> while channels <i>\"2\"</i> and <i>\"3\"</i> define qubit <i>\"1\"</i>. We can encode photonic states into qubits with this map, <p>"
   ]
  },
  {
   "cell_type": "code",
   "execution_count": 7,
   "id": "0b8efeba",
   "metadata": {},
   "outputs": [
    {
     "name": "stdout",
     "output_type": "stream",
     "text": [
      "Photonic states:\n",
      "\n",
      "\u001b[36m | 0, 1, 0, 1 >\u001b[0m:  1.00000000 + 0.00000000 j\n",
      "\n",
      "\u001b[36m | 0, 1, 1, 0 >\u001b[0m:  1.00000000 + 0.00000000 j\n",
      "\n",
      "\u001b[36m | 0, 1, 1, 0 >\u001b[0m:  1.00000000 + 0.00000000 j\n",
      "\n",
      "\u001b[36m | 0, 1, 1, 0 >\u001b[0m:  1.00000000 + 0.00000000 j\n",
      "\n",
      "\n",
      "Equivalent logic states:\n",
      "\n",
      "\u001b[36m | 0, 0 >\u001b[0m:  1.00000000 + 0.00000000 j\n",
      "\n",
      "\u001b[36m | 0, 1 >\u001b[0m:  1.00000000 + 0.00000000 j\n",
      "\n",
      "\u001b[36m | 0, 1 >\u001b[0m:  1.00000000 + 0.00000000 j\n",
      "\n",
      "\u001b[36m | 0, 1 >\u001b[0m:  1.00000000 + 0.00000000 j\n",
      "\n"
     ]
    }
   ],
   "source": [
    "# Define states\n",
    "input0101 = qoptkit.state(4,st=[[1.0,[0,1,0,1]]]) #0101\n",
    "input0110 = qoptkit.state(4,st=[[1.0,[0,1,1,0]]]) #0110\n",
    "input1001 = qoptkit.state(4,st=[[1.0,[0,1,1,0]]]) #1001\n",
    "input1010 = qoptkit.state(4,st=[[1.0,[0,1,1,0]]]) #1010\n",
    "\n",
    "# Encode\n",
    "encoded00=input0101.encode(qmap,hom) #00\n",
    "encoded01=input0110.encode(qmap,hom) #01\n",
    "encoded10=input1001.encode(qmap,hom) #10\n",
    "encoded11=input1010.encode(qmap,hom) #11\n",
    "\n",
    "# Print comparison\n",
    "print(\"Photonic states:\\n\")\n",
    "input0101.prnt_state()\n",
    "input0110.prnt_state()\n",
    "input1001.prnt_state()\n",
    "input1010.prnt_state()\n",
    "print(\"\")\n",
    "print(\"Equivalent logic states:\\n\")\n",
    "encoded00.prnt_state()\n",
    "encoded01.prnt_state()\n",
    "encoded10.prnt_state()\n",
    "encoded11.prnt_state()"
   ]
  },
  {
   "cell_type": "markdown",
   "id": "3c6e50c0",
   "metadata": {},
   "source": [
    "It is also possible to decode them back to photonic states,"
   ]
  },
  {
   "cell_type": "code",
   "execution_count": 8,
   "id": "683bae23",
   "metadata": {},
   "outputs": [
    {
     "name": "stdout",
     "output_type": "stream",
     "text": [
      "Photonic states:\n",
      "\n",
      "\u001b[36m | 0, 1, 0, 1 >\u001b[0m:  1.00000000 + 0.00000000 j\n",
      "\n",
      "\u001b[36m | 0, 1, 1, 0 >\u001b[0m:  1.00000000 + 0.00000000 j\n",
      "\n",
      "\u001b[36m | 0, 1, 1, 0 >\u001b[0m:  1.00000000 + 0.00000000 j\n",
      "\n",
      "\u001b[36m | 0, 1, 1, 0 >\u001b[0m:  1.00000000 + 0.00000000 j\n",
      "\n"
     ]
    }
   ],
   "source": [
    "# Decode\n",
    "decoded00=encoded00.decode(qmap,[],hom) #00\n",
    "decoded01=encoded01.decode(qmap,[],hom) #01\n",
    "decoded10=encoded10.decode(qmap,[],hom) #10\n",
    "decoded11=encoded11.decode(qmap,[],hom) #11\n",
    "print(\"Photonic states:\\n\")\n",
    "decoded00.prnt_state()\n",
    "decoded01.prnt_state()\n",
    "decoded10.prnt_state()\n",
    "decoded11.prnt_state()"
   ]
  },
  {
   "cell_type": "markdown",
   "id": "b8bcf6d5",
   "metadata": {},
   "source": [
    "### 2.2 Rotations"
   ]
  },
  {
   "cell_type": "markdown",
   "id": "17895cdc",
   "metadata": {},
   "source": [
    "<p style='text-align: justify'>  Now, we can define circuits, states and we know how to interpret those states as qubits therefore we are in position to define some basic gates. </p>"
   ]
  },
  {
   "cell_type": "markdown",
   "id": "9e96d551",
   "metadata": {},
   "source": [
    "### 2.2.1 Rx"
   ]
  },
  {
   "cell_type": "markdown",
   "id": "198fedd3",
   "metadata": {},
   "source": [
    "For example, we can define a $Rx(\\pi/2)$ gate using optical elements,"
   ]
  },
  {
   "cell_type": "code",
   "execution_count": 9,
   "id": "e73a0a41",
   "metadata": {},
   "outputs": [
    {
     "data": {
      "image/png": "[encoded data removed]",
      "text/plain": [
       "<Figure size 1900x320 with 1 Axes>"
      ]
     },
     "metadata": {
      "needs_background": "light"
     },
     "output_type": "display_data"
    }
   ],
   "source": [
    "qmap=[[0, 1]]\n",
    "rx = qoptkit.qocircuit(2);\n",
    "rx.bs(0,1,45.0,180.0/2.0)\n",
    "rx.show()"
   ]
  },
  {
   "cell_type": "markdown",
   "id": "c6bd44a9",
   "metadata": {},
   "source": [
    "We can test this gate for an input qubit qo=0,"
   ]
  },
  {
   "cell_type": "code",
   "execution_count": 10,
   "id": "d856a454",
   "metadata": {},
   "outputs": [
    {
     "name": "stdout",
     "output_type": "stream",
     "text": [
      "\u001b[36m | 1 >\u001b[0m: -0.00000000 - 0.70710678 j\n",
      "\u001b[36m | 0 >\u001b[0m:  0.70710678 + 0.00000000 j\n",
      "\n"
     ]
    }
   ],
   "source": [
    "qubit = qoptkit.state(1,st=[[1.0,[0]]])\n",
    "input=qubit.decode(qmap,[],rx) \n",
    "output=sim.run(input,rx)\n",
    "result=output.encode(qmap,rx)\n",
    "result.prnt_state()"
   ]
  },
  {
   "cell_type": "markdown",
   "id": "b54fd6f5",
   "metadata": {},
   "source": [
    "And finally, we can also check the correctness of this result with the equivalent simulation of this gate in QISKIT,"
   ]
  },
  {
   "cell_type": "code",
   "execution_count": 11,
   "id": "a7b74f72",
   "metadata": {},
   "outputs": [
    {
     "name": "stdout",
     "output_type": "stream",
     "text": [
      "QISKIT State vector:\n",
      " | 0 >:    0.70710678 + 0.0 j\n",
      " | 1 >:    0.0 - 0.70710678 j\n"
     ]
    }
   ],
   "source": [
    "qiskitsim = Aer.get_backend('aer_simulator') \n",
    "qc = QuantumCircuit(1)\n",
    "qc.rx(np.pi/2,0)\n",
    "qc.save_statevector() \n",
    "result = qiskitsim.run(qc).result()\n",
    "state = result.get_statevector(decimals=8)\n",
    "print(\"QISKIT State vector:\")\n",
    "print(\" | 0 >: \", ' '  if np.real(state[0]) >= 0.0 else '', np.real(state[0]), '+'  if np.imag(state[0]) >= 0.0 else '-', abs(np.imag(state[0])),'j' )\n",
    "print(\" | 1 >: \", ' '  if np.real(state[1]) >= 0.0 else '', np.real(state[1]), '+'  if np.imag(state[1]) >= 0.0 else '-', abs(np.imag(state[1])),'j' )"
   ]
  },
  {
   "cell_type": "markdown",
   "id": "36bd35a8",
   "metadata": {},
   "source": [
    "### 2.2.2 Ry"
   ]
  },
  {
   "cell_type": "markdown",
   "id": "0448ca55",
   "metadata": {},
   "source": [
    "We can do the same for the $Ry(\\pi/2)$ gate,"
   ]
  },
  {
   "cell_type": "code",
   "execution_count": 12,
   "id": "b63b7bbd",
   "metadata": {},
   "outputs": [
    {
     "data": {
      "image/png": "[encoded data removed]",
      "text/plain": [
       "<Figure size 1900x320 with 1 Axes>"
      ]
     },
     "metadata": {
      "needs_background": "light"
     },
     "output_type": "display_data"
    }
   ],
   "source": [
    "qmap=[[0, 1]]\n",
    "ry = qoptkit.qocircuit(2);\n",
    "ry.bs(0,1,-45.0,0)\n",
    "ry.show()"
   ]
  },
  {
   "cell_type": "markdown",
   "id": "a15f90a5",
   "metadata": {},
   "source": [
    "Again test the gate with an input qubit qo=0,"
   ]
  },
  {
   "cell_type": "code",
   "execution_count": 13,
   "id": "1bfae457",
   "metadata": {},
   "outputs": [
    {
     "name": "stdout",
     "output_type": "stream",
     "text": [
      "\u001b[36m | 1 >\u001b[0m:  0.70710678 + 0.00000000 j\n",
      "\u001b[36m | 0 >\u001b[0m:  0.70710678 + 0.00000000 j\n",
      "\n"
     ]
    }
   ],
   "source": [
    "qubit = qoptkit.state(1,st=[[1.0,[0]]])\n",
    "input=qubit.decode(qmap,[],ry) \n",
    "output=sim.run(input,ry)\n",
    "result=output.encode(qmap,ry)\n",
    "result.prnt_state()"
   ]
  },
  {
   "cell_type": "markdown",
   "id": "3e15b725",
   "metadata": {},
   "source": [
    "And check the result with the equivalent QISKIT simulation,"
   ]
  },
  {
   "cell_type": "code",
   "execution_count": 14,
   "id": "937af3e0",
   "metadata": {},
   "outputs": [
    {
     "name": "stdout",
     "output_type": "stream",
     "text": [
      "QISKIT State vector:\n",
      " | 0 >:    0.70710678 + 0.0 j\n",
      " | 1 >:    0.70710678 + 0.0 j\n"
     ]
    }
   ],
   "source": [
    "qiskitsim = Aer.get_backend('aer_simulator') \n",
    "qc = QuantumCircuit(1)\n",
    "qc.ry(np.pi/2,0)\n",
    "qc.save_statevector() \n",
    "result = qiskitsim.run(qc).result()\n",
    "state = result.get_statevector(decimals=8)\n",
    "print(\"QISKIT State vector:\")\n",
    "print(\" | 0 >: \", ' '  if np.real(state[0]) >= 0.0 else '', np.real(state[0]), '+'  if np.imag(state[0]) >= 0.0 else '-', abs(np.imag(state[0])),'j' )\n",
    "print(\" | 1 >: \", ' '  if np.real(state[1]) >= 0.0 else '', np.real(state[1]), '+'  if np.imag(state[1]) >= 0.0 else '-', abs(np.imag(state[1])),'j' )"
   ]
  },
  {
   "cell_type": "markdown",
   "id": "bace000b",
   "metadata": {},
   "source": [
    "### 2.2.3 Rz"
   ]
  },
  {
   "cell_type": "markdown",
   "id": "c4a2f059",
   "metadata": {},
   "source": [
    "Finally, we can also define a $Rz(\\pi/2)$ gate,"
   ]
  },
  {
   "cell_type": "code",
   "execution_count": 15,
   "id": "f0c06be7",
   "metadata": {},
   "outputs": [
    {
     "data": {
      "image/png": "[encoded data removed]",
      "text/plain": [
       "<Figure size 1900x320 with 1 Axes>"
      ]
     },
     "metadata": {
      "needs_background": "light"
     },
     "output_type": "display_data"
    }
   ],
   "source": [
    "qmap=[[0, 1]]\n",
    "rz = qoptkit.qocircuit(2);\n",
    "rz.ph(0,  45)\n",
    "rz.ph(1, -45)\n",
    "rz.show()"
   ]
  },
  {
   "cell_type": "markdown",
   "id": "943137b0",
   "metadata": {},
   "source": [
    "<p style='text-align: justify'>  In this case, instead of using a beamsplitter gate we have used two phase shifters. A phase shifter adds a phase $e^{i\\theta}$ to a state for each photon present in the channel where it is defined. Once more, we test the gate for an input qubit qo=0. The reader may test those gates with other inputs or create rotation gates with different angles. </p>"
   ]
  },
  {
   "cell_type": "code",
   "execution_count": 16,
   "id": "7e4942b7",
   "metadata": {},
   "outputs": [
    {
     "name": "stdout",
     "output_type": "stream",
     "text": [
      "\u001b[36m | 0 >\u001b[0m:  0.70710678 - 0.70710678 j\n",
      "\n"
     ]
    }
   ],
   "source": [
    "qubit = qoptkit.state(1,st=[[1.0,[0]]])\n",
    "input=qubit.decode(qmap,[],rz) \n",
    "output=sim.run(input,rz)\n",
    "result=output.encode(qmap,rz)\n",
    "result.prnt_state()"
   ]
  },
  {
   "cell_type": "markdown",
   "id": "4110f3b3",
   "metadata": {},
   "source": [
    "Finally, we can check again the result with QISKIT."
   ]
  },
  {
   "cell_type": "code",
   "execution_count": 17,
   "id": "21024fa4",
   "metadata": {},
   "outputs": [
    {
     "name": "stdout",
     "output_type": "stream",
     "text": [
      "QISKIT State vector:\n",
      " | 0 >:    0.70710678 - 0.70710678 j\n",
      " | 1 >:    0.0 + 0.0 j\n"
     ]
    }
   ],
   "source": [
    "qiskitsim = Aer.get_backend('aer_simulator') \n",
    "qc = QuantumCircuit(1)\n",
    "qc.rz(np.pi/2,0)\n",
    "qc.save_statevector() \n",
    "result = qiskitsim.run(qc).result()\n",
    "state = result.get_statevector(decimals=8)\n",
    "print(\"QISKIT State vector:\")\n",
    "print(\" | 0 >: \", ' '  if np.real(state[0]) >= 0.0 else '', np.real(state[0]), '+'  if np.imag(state[0]) >= 0.0 else '-', abs(np.imag(state[0])),'j' )\n",
    "print(\" | 1 >: \", ' '  if np.real(state[1]) >= 0.0 else '', np.real(state[1]), '+'  if np.imag(state[1]) >= 0.0 else '-', abs(np.imag(state[1])),'j' )\n"
   ]
  },
  {
   "cell_type": "markdown",
   "id": "11c6e039",
   "metadata": {},
   "source": [
    "<p style='text-align: justify'> It is not very difficult to see how these operations can be generalized to any rotation. Therefore, we can implement with optical circuits any single qubit operation. But what about two qubits operations? </p>"
   ]
  },
  {
   "cell_type": "markdown",
   "id": "43cdf05d",
   "metadata": {},
   "source": [
    "## 3 Post-selection"
   ]
  },
  {
   "cell_type": "markdown",
   "id": "0020e06c",
   "metadata": {},
   "source": [
    "<p style='text-align: justify'> Unfortunately, a linear optical circuit by itself can not implement every possible quantum gate. Some non-linearity is needed to achieve this purpose. It has been demonstrated [2] that the required non-linearity can be introduced by a partial measurement of the result called post-selection. The price to pay is that gates that make use of post-selection only work with a certain probability of success. Let's put an example. </p>"
   ]
  },
  {
   "cell_type": "markdown",
   "id": "7ee530b9",
   "metadata": {},
   "source": [
    "### The $NS_{-1}$ gate"
   ]
  },
  {
   "cell_type": "markdown",
   "id": "759f29d0",
   "metadata": {},
   "source": [
    "<p style='text-align: justify'>  For example, we can find in the literature [3] a gate that changes the sign of an input state if the number of photons is two. This is, we want a photonic gate that implements the operation,\n",
    "$$ |0\\rangle + |1\\rangle + |2\\rangle \\rightarrow |0\\rangle + |1\\rangle - |2\\rangle$$ </p>"
   ]
  },
  {
   "cell_type": "code",
   "execution_count": 18,
   "id": "269d907f",
   "metadata": {},
   "outputs": [
    {
     "data": {
      "image/png": "[encoded data removed]",
      "text/plain": [
       "<Figure size 1200x344 with 1 Axes>"
      ]
     },
     "metadata": {
      "needs_background": "light"
     },
     "output_type": "display_data"
    }
   ],
   "source": [
    "# Create circuit\n",
    "NSx = qoptkit.qocircuit(3);\n",
    "# Build circuit\n",
    "NSx.ph(0,180.0)\n",
    "NSx.bs(1,2,22.5,0.0)\n",
    "NSx.bs(0,1,65.5302,0.0)\n",
    "NSx.bs(1,2,-22.5,0.0)\n",
    "# Show circuit\n",
    "NSx.show(depth=8,sizexy=80,font=16)"
   ]
  },
  {
   "cell_type": "markdown",
   "id": "6933f569",
   "metadata": {},
   "source": [
    "<p style='text-align: justify'> This gate has three channels instead of one. It adds two auxiliary channels to perform the operation. We will assume, for the moment, that these two extra channels are initialized to 1 and 0 photons respectively and we will require from those channels to have the same values at the output. We will explain the reason below. Therefore,\n",
    "$$ |0,1,0 \\rangle + |1,1,0\\rangle + |2,1,0\\rangle \\rightarrow |0,1,0\\rangle + |1,1,0\\rangle - |2,1,0\\rangle$$ </p>\n"
   ]
  },
  {
   "cell_type": "code",
   "execution_count": 19,
   "id": "31d24211",
   "metadata": {},
   "outputs": [
    {
     "name": "stdout",
     "output_type": "stream",
     "text": [
      "\u001b[36m | 0, 1, 0 >\u001b[0m:  1.00000000 + 0.00000000 j\n",
      "\u001b[36m | 1, 1, 0 >\u001b[0m:  1.00000000 + 0.00000000 j\n",
      "\u001b[36m | 2, 1, 0 >\u001b[0m:  1.00000000 + 0.00000000 j\n",
      "\n"
     ]
    }
   ],
   "source": [
    "# Create input state\n",
    "state=[ [1.0,[0,1,0]],\n",
    "        [1.0,[1,1,0]],\n",
    "        [1.0,[2,1,0]],\n",
    "      ]\n",
    "inputst = qoptkit.state(NSx.num_ch(),st=state,nph=3)\n",
    "inputst.prnt_state()"
   ]
  },
  {
   "cell_type": "markdown",
   "id": "876677bd",
   "metadata": {},
   "source": [
    "<p style='text-align: justify'> We will left the state intentionally unnormalized as it will simplify explanations. Next, we can calculate the output of the circuit with QOKIT. </p>"
   ]
  },
  {
   "cell_type": "code",
   "execution_count": 20,
   "id": "5e7e91a9",
   "metadata": {},
   "outputs": [
    {
     "name": "stdout",
     "output_type": "stream",
     "text": [
      "\u001b[36m | 1, 0, 0 >\u001b[0m: -0.84089642 + 0.00000000 j\n",
      "\u001b[36m | 0, 1, 0 >\u001b[0m:  0.49999999 + 0.00000000 j\n",
      "\u001b[36m | 0, 0, 1 >\u001b[0m:  0.20710678 + 0.00000000 j\n",
      "\u001b[36m | 2, 0, 0 >\u001b[0m:  0.49258571 - 0.00000000 j\n",
      "\u001b[36m | 1, 1, 0 >\u001b[0m:  0.50000001 - 0.00000000 j\n",
      "\u001b[36m | 1, 0, 1 >\u001b[0m: -0.37867966 + 0.00000000 j\n",
      "\u001b[36m | 0, 2, 0 >\u001b[0m: -0.59460355 + 0.00000000 j\n",
      "\u001b[36m | 0, 0, 2 >\u001b[0m:  0.10201784 - 0.00000000 j\n",
      "\u001b[36m | 3, 0, 0 >\u001b[0m: -0.24989165 + 0.00000000 j\n",
      "\u001b[36m | 2, 1, 0 >\u001b[0m: -0.50000000 + 0.00000000 j\n",
      "\u001b[36m | 2, 0, 1 >\u001b[0m:  0.27817459 - 0.00000000 j\n",
      "\u001b[36m | 1, 2, 0 >\u001b[0m: -0.24629288 + 0.00000000 j\n",
      "\u001b[36m | 1, 1, 1 >\u001b[0m:  0.34831071 - 0.00000000 j\n",
      "\u001b[36m | 1, 0, 2 >\u001b[0m: -0.16177851 + 0.00000000 j\n",
      "\u001b[36m | 0, 3, 0 >\u001b[0m:  0.61237243 - 0.00000000 j\n",
      "\u001b[36m | 0, 2, 1 >\u001b[0m: -0.14644660 + 0.00000000 j\n",
      "\u001b[36m | 0, 1, 2 >\u001b[0m: -0.06066017 + 0.00000000 j\n",
      "\u001b[36m | 0, 0, 3 >\u001b[0m:  0.04351997 - 0.00000000 j\n",
      "\n"
     ]
    }
   ],
   "source": [
    "sim=qoptkit.simulator()\n",
    "outputst=sim.run(inputst,NSx)\n",
    "outputst.prnt_state()"
   ]
  },
  {
   "cell_type": "markdown",
   "id": "0b0510c8",
   "metadata": {},
   "source": [
    "<p style='text-align: justify'> On a first glance the result looks quite different of what we were expecting. However, the intended result is obtained if after measuring channels <i>\"1\"</i> and  <i>\"2\"</i>  we require the detection of one photon only in channel <i>\"1\"</i>. If this condition is met, we conclude the gate has worked, otherwise we reject the result in channel <i>\"0\"</i> . Post-selected channels <i>\"1\"</i> and  <i>\"2\"</i> are erased from the result. </p>"
   ]
  },
  {
   "cell_type": "code",
   "execution_count": 21,
   "id": "84391ad0",
   "metadata": {},
   "outputs": [
    {
     "name": "stdout",
     "output_type": "stream",
     "text": [
      "\u001b[36m | 0 >\u001b[0m:  0.49999999 + 0.00000000 j\n",
      "\u001b[36m | 1 >\u001b[0m:  0.50000001 - 0.00000000 j\n",
      "\u001b[36m | 2 >\u001b[0m: -0.50000000 + 0.00000000 j\n",
      "\n"
     ]
    }
   ],
   "source": [
    "finalst=outputst.post_selection([-1,1,0])\n",
    "finalst.prnt_state()"
   ]
  },
  {
   "cell_type": "markdown",
   "id": "7ca6e958",
   "metadata": {},
   "source": [
    "<p style='text-align: justify'> Physically post-selection means that we only accept the quantum state defined by channel zero if after a partial measurement of the rest of the channels the result meets the pre-established conditions. The price to pay is that this condition may not be always met. This gate has a success probability of 1/4. This means that only 1 in 4 times on average the \"10\" condition will be measured in channels 2 and 3. Therefore only around 1 of 4 times this gate will work as intended. This can also be seen in the normalization of the end state that is 1/4. (This is the reason we didn't normalize the state before. It is easier to see the success factor this way) </p>"
   ]
  },
  {
   "cell_type": "markdown",
   "id": "e3cf7bc3",
   "metadata": {},
   "source": [
    "### CZ gate"
   ]
  },
  {
   "cell_type": "markdown",
   "id": "e23c1ff2",
   "metadata": {},
   "source": [
    "<p style='text-align: justify'>  Post-selection is one of the more difficult concepts in quantum computation with linear circuits but once mastered the sky is the limit. We can use the $NS_{-1}$  gate to build a two qubit CZ gate as shown in [2]. This can be achieved with a eight channel circuit. Four channel for the qubit definitions and four extra ancilla channels for post-selection because this circuit uses two $NS_{-1}$ gates.</p>"
   ]
  },
  {
   "cell_type": "code",
   "execution_count": 22,
   "id": "759570d3",
   "metadata": {},
   "outputs": [],
   "source": [
    "qmap=[[0, 1], [2, 3]]\n",
    "csign = qoptkit.qocircuit(8)\n",
    "csign.bs(0,2,45.0,0.0)\n",
    "csign.gate([ 0, 4, 5 ],NSx,\"NSX\")\n",
    "csign.gate([ 2, 6, 7 ],NSx,\"NSX\")\n",
    "csign.bs(0,2,-45.0,0.0)  "
   ]
  },
  {
   "cell_type": "markdown",
   "id": "aaa8915e",
   "metadata": {},
   "source": [
    "<div>\n",
    "<img src=\"./CZ.png\" width=\"1200\"/>\n",
    "</div>\n",
    "<p style='text-align: center;'> <b>CZ asdescribed in ref. [2] </b></p>"
   ]
  },
  {
   "cell_type": "markdown",
   "id": "dd85d504",
   "metadata": {},
   "source": [
    "In this case, we choose an input state with all the possibilities in superposition with equal probability."
   ]
  },
  {
   "cell_type": "code",
   "execution_count": 23,
   "id": "418d522f",
   "metadata": {},
   "outputs": [
    {
     "name": "stdout",
     "output_type": "stream",
     "text": [
      "\u001b[36m | 0, 0 >\u001b[0m:  0.50000000 + 0.00000000 j\n",
      "\u001b[36m | 0, 1 >\u001b[0m:  0.50000000 + 0.00000000 j\n",
      "\u001b[36m | 1, 0 >\u001b[0m:  0.50000000 + 0.00000000 j\n",
      "\u001b[36m | 1, 1 >\u001b[0m:  0.50000000 + 0.00000000 j\n",
      "\n"
     ]
    }
   ],
   "source": [
    "qubit= qoptkit.state(2,st=[ [0.5,[0,0]], [0.5,[0,1]], [0.5,[1,0]], [0.5,[1,1]] ],nph=2)\n",
    "qubit.prnt_state()"
   ]
  },
  {
   "cell_type": "markdown",
   "id": "b644d2c2",
   "metadata": {},
   "source": [
    "<p style='text-align: justify'> First, we decode the qubit state into its equivalent photonic state. Next, we obtain the output of the circuit and\n",
    "apply the post-selection conditions required by the $NS_{-1}$ gates. Finally, we encode the output into a qubit representation. </p>"
   ]
  },
  {
   "cell_type": "code",
   "execution_count": 24,
   "id": "fe3503bb",
   "metadata": {},
   "outputs": [
    {
     "name": "stdout",
     "output_type": "stream",
     "text": [
      "\u001b[36m | 0, 0 >\u001b[0m:  0.49999999 + 0.00000000 j\n",
      "\u001b[36m | 0, 1 >\u001b[0m:  0.50000001 - 0.00000000 j\n",
      "\u001b[36m | 1, 0 >\u001b[0m:  0.50000001 - 0.00000000 j\n",
      "\u001b[36m | 1, 1 >\u001b[0m: -0.49999999 + 0.00000000 j\n",
      "\n"
     ]
    }
   ],
   "source": [
    "# Decode input into photonic state\n",
    "inputst=qubit.decode(qmap,[1,0,1,0],csign)\n",
    "# Create a simulator\n",
    "sim=qoptkit.simulator()\n",
    "# Calculate the output\n",
    "outputst=sim.run(inputst,csign)\n",
    "# Apply post-selection\n",
    "pselected=outputst.post_selection([-1,-1,-1,-1, 1,0,1,0])\n",
    "# Encode output photonic state into qubit state \n",
    "encoded=pselected.encode(qmap,csign)\n",
    "# Normalize\n",
    "encoded.normalize()\n",
    "# Print the resulting state\n",
    "encoded.prnt_state()"
   ]
  },
  {
   "cell_type": "markdown",
   "id": "c7fc515f",
   "metadata": {},
   "source": [
    "<p style='text-align: justify'> We can see how a phase flip happens for the outcome $|1,1\\rangle$. We have normalized the output, otherwise we would see that the success probability of this gate is 1/16. Note that, in this particular case, the post-selected states only contain outcomes with 0 or 1 photons by channel. </p>"
   ]
  },
  {
   "cell_type": "code",
   "execution_count": 25,
   "id": "3c9d856a",
   "metadata": {},
   "outputs": [
    {
     "name": "stdout",
     "output_type": "stream",
     "text": [
      "\u001b[36m | 0, 1, 0, 1 >\u001b[0m:  0.12500000 + 0.00000000 j\n",
      "\u001b[36m | 0, 1, 1, 0 >\u001b[0m:  0.12500000 - 0.00000000 j\n",
      "\u001b[36m | 1, 0, 0, 1 >\u001b[0m:  0.12500000 - 0.00000000 j\n",
      "\u001b[36m | 1, 0, 1, 0 >\u001b[0m: -0.12500000 + 0.00000000 j\n",
      "\n"
     ]
    }
   ],
   "source": [
    "pselected.prnt_state()"
   ]
  },
  {
   "cell_type": "markdown",
   "id": "b6e0be96",
   "metadata": {},
   "source": [
    "<p style='text-align: justify'> Therefore, the encoding is straightforward. The encoding operation implemented in QOKIT will ignore outcomes with more than one photon by qubit. This may be used on purpose like a sort of an additional post-selection condition although it has some disadvantages. See our next example. </p>"
   ]
  },
  {
   "cell_type": "markdown",
   "id": "8f07439a",
   "metadata": {},
   "source": [
    "### CNOT gate"
   ]
  },
  {
   "cell_type": "markdown",
   "id": "9f36c112",
   "metadata": {},
   "source": [
    "Here we show a CNOT implementation as suggested in ref. [4]. "
   ]
  },
  {
   "cell_type": "code",
   "execution_count": 26,
   "id": "b887f392",
   "metadata": {},
   "outputs": [
    {
     "data": {
      "image/png": "[encoded data removed]",
      "text/plain": [
       "<Figure size 1740x456 with 1 Axes>"
      ]
     },
     "metadata": {
      "needs_background": "light"
     },
     "output_type": "display_data"
    }
   ],
   "source": [
    "qmap=[[1, 2], [3, 4]]\n",
    "cnot=qoptkit.qocircuit(6);\n",
    "cnot.bs(3,4, -45.0,0.0)\n",
    "cnot.barrier()\n",
    "cnot.bs(0,1,180*acos(1.0/sqrt(3.0))/pi,0.0)\n",
    "cnot.bs(2,3,180*acos(1.0/sqrt(3.0))/pi,0.0)\n",
    "cnot.bs(4,5,180*acos(1.0/sqrt(3.0))/pi,0.0)\n",
    "cnot.barrier()\n",
    "cnot.bs(3,4, -45.0,0.0)\n",
    "cnot.barrier()\n",
    "cnot.ph(1, 180)\n",
    "cnot.ph(3, 180)\n",
    "cnot.show(depth=15,sizexy=60,font=18)"
   ]
  },
  {
   "cell_type": "markdown",
   "id": "30337c04",
   "metadata": {},
   "source": [
    "Below it is shown how to perform the simulation for the case of a $|10\\rangle$ input state. We invite the reader to check the rest of possible inputs."
   ]
  },
  {
   "cell_type": "code",
   "execution_count": 27,
   "id": "fe675fff",
   "metadata": {},
   "outputs": [],
   "source": [
    "# Input state (qubit definition)\n",
    "qubit= qoptkit.state(2,st=[[1.0,[1,0]]])\n",
    "# Decode input into photonic state\n",
    "input=qubit.decode(qmap,[0,0],cnot)\n",
    "# Create a simulator\n",
    "sim=qoptkit.simulator()\n",
    "# Calculate the output\n",
    "output=sim.run(input,cnot)\n",
    "# Apply post-selection\n",
    "pselected=output.post_selection([0,-1,-1,-1,-1, 0])\n",
    "# Encode output photonic state into qubit state \n",
    "encoded=pselected.encode(qmap,cnot)"
   ]
  },
  {
   "cell_type": "markdown",
   "id": "e11393a2",
   "metadata": {},
   "source": [
    "Now, we can show the output. However, this time we will plot the probabilities instead of printing the states,"
   ]
  },
  {
   "cell_type": "code",
   "execution_count": 28,
   "id": "4a52d7c9",
   "metadata": {},
   "outputs": [
    {
     "data": {
      "image/png": "[encoded data removed]",
      "text/plain": [
       "<Figure size 400x400 with 1 Axes>"
      ]
     },
     "metadata": {
      "needs_background": "light"
     },
     "output_type": "display_data"
    }
   ],
   "source": [
    "encoded.show(sizex=4,sizey=4)"
   ]
  },
  {
   "cell_type": "markdown",
   "id": "1296ec88",
   "metadata": {},
   "source": [
    "<p style='text-align: justify'> Note that the normalization 1/9 correspond with the success probability of this gate. Here we have printed the outcome probabilities after the encoding of the photonic state into qubits. However, if we plot the outcome probabilities of the photonic state directly we can see that there are two possible different outcomes. A \"1010\" outcome with success probability 1/9 that corresponds with a 11 qubit configuration and a \"1100\" outcome that has no valid encoding. </p>"
   ]
  },
  {
   "cell_type": "code",
   "execution_count": 29,
   "id": "4d63c9c2",
   "metadata": {},
   "outputs": [
    {
     "data": {
      "image/png": "[encoded data removed]",
      "text/plain": [
       "<Figure size 400x400 with 1 Axes>"
      ]
     },
     "metadata": {
      "needs_background": "light"
     },
     "output_type": "display_data"
    }
   ],
   "source": [
    "pselected.show(sizex=4,sizey=4)"
   ]
  },
  {
   "cell_type": "markdown",
   "id": "78e2d758",
   "metadata": {},
   "source": [
    "<p style='text-align: justify'> We reject outcomes that can not be encoded. This can be understood as a sort of an additional post-selection condition. Of course, that means that this CNOT gate\n",
    "can work as a CNOT in an isolated way but can not be used to design large circuits like the CZ because these extra outcomes will play a role once multiple gates are interconnected.  </p>"
   ]
  },
  {
   "cell_type": "markdown",
   "id": "1ce53f55",
   "metadata": {},
   "source": [
    "## Bibliography"
   ]
  },
  {
   "cell_type": "markdown",
   "id": "c0c812e5",
   "metadata": {},
   "source": [
    "[1] C. K. Hong, Z. Y. Ou and L. Mandel, **Phys. Rev. Lett. 59 (18): 2044–2046.** (1987) </br>\n",
    "[2] E. Knill, R. Laflamme, G. J. Milburn, **Nature 409 46-52** (2001) </br>\n",
    "[3] C. Myers et Al. **Quantum Computers, Algorithms and Chaos, vol. 162, IOS Press, pp. 45–93** (2006) </br>\n",
    "[4] J L O'Brien, G J Pryde, A G White, T C Ralph, D Branning, **Nature 426:264** (2003)"
   ]
  },
  {
   "cell_type": "markdown",
   "id": "8e668366",
   "metadata": {},
   "source": [
    "**THIS CODE IS PART OF QoptKIT** <br>\n",
    "\n",
    "**Copyright:** <br>\n",
    "Copyright © 2023 National University of Ireland Maynooth, Maynooth University.\n",
    "\n",
    "Licensed under the Apache License, Version 2.0 (the \"License\"); you may not use this file except in compliance with the <a href=\"./LICENSE.TXT\">License</a>"
   ]
  }
 ],
 "metadata": {
  "kernelspec": {
   "display_name": "Python 3",
   "language": "python",
   "name": "python3"
  },
  "language_info": {
   "codemirror_mode": {
    "name": "ipython",
    "version": 3
   },
   "file_extension": ".py",
   "mimetype": "text/x-python",
   "name": "python",
   "nbconvert_exporter": "python",
   "pygments_lexer": "ipython3",
   "version": "3.8.8"
  }
 },
 "nbformat": 4,
 "nbformat_minor": 5
}
